{
 "cells": [
  {
   "cell_type": "code",
   "execution_count": 1,
   "id": "5313ed2a",
   "metadata": {},
   "outputs": [],
   "source": [
    "from bs4 import BeautifulSoup\n",
    "import requests"
   ]
  },
  {
   "cell_type": "code",
   "execution_count": 2,
   "id": "7ff6730e",
   "metadata": {},
   "outputs": [],
   "source": [
    "html_text = requests.get('https://www.timesjobs.com/candidate/job-search.html?searchType=Home_Search&from=submit&asKey=OFF&txtKeywords=&cboPresFuncArea=35').text\n",
    "soup = BeautifulSoup(html_text, 'lxml')"
   ]
  },
  {
   "cell_type": "code",
   "execution_count": 3,
   "id": "19a49b32",
   "metadata": {},
   "outputs": [],
   "source": [
    "jobs = soup.find_all('li', class_='clearfix job-bx wht-shd-bx')"
   ]
  },
  {
   "cell_type": "code",
   "execution_count": 4,
   "id": "b58efd64",
   "metadata": {},
   "outputs": [
    {
     "name": "stdout",
     "output_type": "stream",
     "text": [
      "Company Name : I2CANZOUTSOURCINGPRIVATELIMITED\r\n",
      "(MoreJobs)\n",
      "Required Skills : sap,Consultant,SAPBASISAdministration,SAPFinancialIntegration,SAPOracle,SAPNetWeaver,SAPConfiguration,Erp,SAPMMFunctional,Abap,sapconsulting\n",
      "More Info : https://www.timesjobs.com/job-detail/sap-consultant-required-in-canada-australia-i2canz-outsourcing-private-limited-australia-canada-null-2-to-7-yrs-jobid-1ACdKJK6v6ZzpSvf__PLUS__uAgZw==&source=srp\n",
      "\n",
      "Company Name : I2CANZOUTSOURCINGPRIVATELIMITED\r\n",
      "(MoreJobs)\n",
      "Required Skills : ITInfrastructureNetworking,Network,Administration,networkengineer,systemadministrator,technicalsupportengineer,technicalengineer,ITManagement\n",
      "More Info : https://www.timesjobs.com/job-detail/requirement-for-it-manager-in-canada-and-australia-i2canz-outsourcing-private-limited-australia-canada-null-2-to-7-yrs-jobid-KYE12yVCh5pzpSvf__PLUS__uAgZw==&source=srp\n",
      "\n",
      "Company Name : I2CANZOUTSOURCINGPRIVATELIMITED\r\n",
      "(MoreJobs)\n",
      "Required Skills : WebDesigning,WebDevelopingWebDesiging,WebBasedDevelopmentJ2EE,WebDevelopmentServiceSale,ASP.netWebDevelopment,SqlServer,Html,c++,Oracle\n",
      "More Info : https://www.timesjobs.com/job-detail/web-designers-and-developers-req-in-canada-oinp-i2canz-outsourcing-private-limited-australia-canada-null-2-to-7-yrs-jobid-7kMpGORzdY9zpSvf__PLUS__uAgZw==&source=srp\n",
      "\n",
      "Company Name : I2CANZOUTSOURCINGPRIVATELIMITED\r\n",
      "(MoreJobs)\n",
      "Required Skills : Softwareengineers,SoftwareDesigning,CadDesign,SoftwareDeveloping,SoftwareProductDevelopment,SoftwareDevelopment,softwaretestengineer,softwareengineer\n",
      "More Info : https://www.timesjobs.com/job-detail/software-engineers-and-designers-for-canada-oinp-i2canz-outsourcing-private-limited-australia-canada-null-2-to-7-yrs-jobid-Oxk9Vnq7gfZzpSvf__PLUS__uAgZw==&source=srp\n",
      "\n",
      "Company Name : I2CANZOUTSOURCINGPRIVATELIMITED\r\n",
      "(MoreJobs)\n",
      "Required Skills : SoftwareEngineer,seniorsoftwareengineer,SoftwareRecruitment\n",
      "More Info : https://www.timesjobs.com/job-detail/abroad-jobs-requirement-software-engineers-i2canz-outsourcing-private-limited-australia-canada-null-2-to-7-yrs-jobid-2NlhtFJReC9zpSvf__PLUS__uAgZw==&source=srp\n",
      "\n",
      "Company Name : I2CANZOUTSOURCINGPRIVATELIMITED\r\n",
      "(MoreJobs)\n",
      "Required Skills : SAPBASISAdministration,SapBasisConsultant,sapconsultant\n",
      "More Info : https://www.timesjobs.com/job-detail/abroad-jobs-requirement-sap-basis-consultant-i2canz-outsourcing-private-limited-australia-canada-hong-kong-null-2-to-7-yrs-jobid-95AFfWQt9uhzpSvf__PLUS__uAgZw==&source=srp\n",
      "\n",
      "Company Name : I2CANZOUTSOURCINGPRIVATELIMITED\r\n",
      "(MoreJobs)\n",
      "Required Skills : ITManager,ITsupervisor,SiteEngineer,HardwareTroubleshooting,TechnicalSupport\n",
      "More Info : https://www.timesjobs.com/job-detail/urgent-jobs-requirement-it-manager-i2canz-outsourcing-private-limited-australia-canada-hong-kong-null-2-to-7-yrs-jobid-OFWBak8rwGxzpSvf__PLUS__uAgZw==&source=srp\n",
      "\n",
      "Company Name : GreenDigitalTechnology\r\n",
      "(MoreJobs)\n",
      "Required Skills : Azure,CloudComputing,c++,Terraform,Ansible,Devops,AmazonAws,Redhat/linux,Vmware,Virtualization,Aws,Asnt,IAM,LDAP,GCP,Powershell,CloudEngineer,Coding,ARM\n",
      "More Info : https://www.timesjobs.com/job-detail/urgent-need-of-cloud-engineer-in-hyderabad-innovatek-bengaluru-bangalore-chennai-hyderabad-secunderabad-pune-cochin-kochi-ernakulam-0-to-3-yrs-jobid-g6__SLASH__rL1twZDtzpSvf__PLUS__uAgZw==&source=srp\n",
      "\n",
      "Company Name : GreenDigitalTechnology\r\n",
      "(MoreJobs)\n",
      "Required Skills : ComputerScience,Nunit,Jquery,Javascript,Coding,Debugging,Agile,UnitTesting,IntegrationTesting,c++,Angular,Node.js,UML,Frontend,MVC,OOAD,SystemArchitecture\n",
      "More Info : https://www.timesjobs.com/job-detail/full-stack-developer-innovatek-bengaluru-bangalore-chennai-hyderabad-secunderabad-pune-cochin-kochi-ernakulam-0-to-3-yrs-jobid-3bpPUGVQAKlzpSvf__PLUS__uAgZw==&source=srp\n",
      "\n",
      "Company Name : GreenDigitalTechnology\r\n",
      "(MoreJobs)\n",
      "Required Skills : SQL,Python,Excel,PowerBI,Tableau,DataAnalytics,BusinessIntelligence,DataAnalysis,Hadoop,BigData,MachineLearning,AdvancedExcel,Sap,DataCleaning\n",
      "More Info : https://www.timesjobs.com/job-detail/data-analyst-innovatek-bengaluru-bangalore-chennai-hyderabad-secunderabad-pune-cochin-kochi-ernakulam-0-to-3-yrs-jobid-peexYGQRBjlzpSvf__PLUS__uAgZw==&source=srp\n",
      "\n",
      "Company Name : GreenDigitalTechnology\r\n",
      "(MoreJobs)\n",
      "Required Skills : PowerBI,BIDevelopment,SQLScripting,Dashboarding,SQL,Spss,GUI,RDMS,Oracle,T-SQL,Ssis,SQLQuery,ETLTool,Informatica,Salesforce,Statistics,OLAP,BIDeveloper\n",
      "More Info : https://www.timesjobs.com/job-detail/bi-developer-innovatek-bengaluru-bangalore-chennai-hyderabad-secunderabad-pune-cochin-kochi-ernakulam-0-to-3-yrs-jobid-t9HVVvXrQsJzpSvf__PLUS__uAgZw==&source=srp\n",
      "\n",
      "Company Name : GreenDigitalTechnology\r\n",
      "(MoreJobs)\n",
      "Required Skills : Automation,FunctionalTesting,SmokeTesting,RegressionTesting,TestPlan,Qa,QualityAssurance,testengineer,softwaretester,qatester,manualtesting,Selenium\n",
      "More Info : https://www.timesjobs.com/job-detail/software-test-engineer-manual-automation-innovatek-bengaluru-bangalore-chennai-hyderabad-secunderabad-pune-cochin-kochi-ernakulam-0-to-3-yrs-jobid-sYbMbIgKHp1zpSvf__PLUS__uAgZw==&source=srp\n",
      "\n",
      "Company Name : NetLync\r\n",
      "(MoreJobs)\n",
      "Required Skills : Fresher,HardwareInstallation,OutlookConfiguration,Softwareinstallation,MSOffice\n",
      "More Info : https://www.timesjobs.com/job-detail/system-admin-netlync-technologies-llp-hyderabad-secunderabad-0-to-2-yrs-jobid-RC05cdylxnZzpSvf__PLUS__uAgZw==&source=srp\n",
      "\n",
      "Company Name : Jovialtrip\r\n",
      "(MoreJobs)\n",
      "Required Skills : be,Btech,ba,bcom,engineer,softwareengineer,bhm,marketing,receptionist,freshers,housewives,students,bachelor,mSC,phd,graduate,12pass,online,teachers,working\n",
      "More Info : https://www.timesjobs.com/job-detail/urgently-recruiting-for-part-time-weekly-earning-jovial-trip-dadra-nagar-haveli-silvassa-daman-diu-tirupati-vijayawada-visakhapatnam-0-to-3-yrs-jobid-tfmvEQs4wNhzpSvf__PLUS__uAgZw==&source=srp\n",
      "\n",
      "Company Name : Jovialtrip\r\n",
      "(MoreJobs)\n",
      "Required Skills : be,Btech,ba,bsc,bcom,engineer,softwareengineer,networkengineer,bhm,marketing,sales,nurse,receptionist,freshers,housewives,students,bachelor,mSC,phd,graduate\n",
      "More Info : https://www.timesjobs.com/job-detail/home-based-work-for-everyone-who-wants-to-earn-jovial-trip-kolkata-chandigarh-daman-diu-vijayawada-visakhapatnam-0-to-3-yrs-jobid-Vme6soduydpzpSvf__PLUS__uAgZw==&source=srp\n",
      "\n",
      "Company Name : Jovialtrip\r\n",
      "(MoreJobs)\n",
      "Required Skills : be,Btech,ba,bcom,engineer,softwareengineer,bhm,marketing,receptionist,freshers,housewives,students,bachelor,mSC,phd,graduate,12pass,working,Homebased,Bsc\n",
      "More Info : https://www.timesjobs.com/job-detail/newly-clevery-work-for-smarties-jovial-trip-ahmedabad-bengaluru-bangalore-chennai-gurgaon-hyderabad-secunderabad-0-to-3-yrs-jobid-lGJdMouZIMdzpSvf__PLUS__uAgZw==&source=srp\n",
      "\n",
      "Company Name : Jovialtrip\r\n",
      "(MoreJobs)\n",
      "Required Skills : be,Btech,ba,bsc,bcom,engineer,softwareengineer,networkengineer,bhm,marketing,sales,nurse,receptionist,freshers,housewives,students,bachelor,mSC,phd,graduate\n",
      "More Info : https://www.timesjobs.com/job-detail/home-based-work-for-everyone-who-wants-to-earn-jovial-trip-guwahati-yamunanagar-shimla-solan-bhopal-0-to-3-yrs-jobid-NRr62OP5ml9zpSvf__PLUS__uAgZw==&source=srp\n",
      "\n",
      "Company Name : PRIMEXIMMIGRATIONLLP\r\n",
      "(MoreJobs)\n",
      "Required Skills : PHPDeveloping,phpdeveloper,softwaredeveloper,PHPc++Java\n",
      "More Info : https://www.timesjobs.com/job-detail/php-developer-job-for-overseas-singapore-primex-immigration-llp-singapore-6-to-11-yrs-jobid-PVZPgN92ATFzpSvf__PLUS__uAgZw==&source=srp\n",
      "\n",
      "Company Name : PRIMEXIMMIGRATIONLLP\r\n",
      "(MoreJobs)\n",
      "Required Skills : iteng,itengineer,technicalsupportengineer,systemadministrator,networkadministrator,ITsoftwareengineer\n",
      "More Info : https://www.timesjobs.com/job-detail/it-software-engineer-job-in-overseas-singapore-primex-immigration-llp-singapore-6-to-11-yrs-jobid-h4eflYakU81zpSvf__PLUS__uAgZw==&source=srp\n",
      "\n"
     ]
    }
   ],
   "source": [
    "for job in jobs:\n",
    "    published_date = job.find('span', class_= 'sim-posted').span.text\n",
    "    if 'Posted today' in published_date:\n",
    "        company_name = job.find('h3', class_=\"joblist-comp-name\").text.replace(' ', '')\n",
    "        skills = job.find('span',class_= 'srp-skills').text.replace(' ','')\n",
    "        more_info = job.header.h2.a['href']\n",
    "        print(f\"Company Name : {company_name.strip()}\")\n",
    "        print(f\"Required Skills : {skills.strip()}\")\n",
    "        print(f\"More Info : {more_info}\")\n",
    "        print('')"
   ]
  },
  {
   "cell_type": "code",
   "execution_count": null,
   "id": "27cd43ab",
   "metadata": {},
   "outputs": [],
   "source": []
  },
  {
   "cell_type": "code",
   "execution_count": null,
   "id": "9b4d2d65",
   "metadata": {},
   "outputs": [],
   "source": []
  },
  {
   "cell_type": "code",
   "execution_count": null,
   "id": "013f4458",
   "metadata": {},
   "outputs": [],
   "source": []
  },
  {
   "cell_type": "code",
   "execution_count": null,
   "id": "d4ca4fbe",
   "metadata": {},
   "outputs": [],
   "source": []
  },
  {
   "cell_type": "code",
   "execution_count": null,
   "id": "02e51fe6",
   "metadata": {},
   "outputs": [],
   "source": []
  }
 ],
 "metadata": {
  "kernelspec": {
   "display_name": "Python 3",
   "language": "python",
   "name": "python3"
  },
  "language_info": {
   "codemirror_mode": {
    "name": "ipython",
    "version": 3
   },
   "file_extension": ".py",
   "mimetype": "text/x-python",
   "name": "python",
   "nbconvert_exporter": "python",
   "pygments_lexer": "ipython3",
   "version": "3.8.8"
  }
 },
 "nbformat": 4,
 "nbformat_minor": 5
}
