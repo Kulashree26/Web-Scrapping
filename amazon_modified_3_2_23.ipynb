{
 "cells": [
  {
   "cell_type": "code",
   "execution_count": 1,
   "id": "626d6427",
   "metadata": {},
   "outputs": [],
   "source": [
    "html = \"\"\"\n",
    "<div class=\"a-section a-spacing-small a-spacing-top-small\">\n",
    "      <div class=\"a-section a-spacing-none puis-padding-right-small s-title-instructions-style\">\n",
    "               <h2 class=\"a-size-mini a-spacing-none a-color-base s-line-clamp-2\">\n",
    "                      <a class=\"a-link-normal s-underline-text s-underline-link-text s-link-style a-text-normal\" target=\"_blank\" href=\"/Inovera-Label-Women-Handbags-Shoulder/dp/B08CMQD4BC/ref=sr_1_19?crid=2M096C61O4MLT&amp;keywords=bags&amp;qid=1675430445&amp;sprefix=ba%2Caps%2C283&amp;sr=8-19\">\n",
    "                          <span class=\"a-size-medium a-color-base a-text-normal\">INOVERA Faux Leather Women Handbags Shoulder Hobo Bag Purse With Long Strap, 32L x 13B x 30H cm</span>\n",
    "                        </a> \n",
    "                </h2>\n",
    "     </div>\n",
    "     <div class=\"a-section a-spacing-none a-spacing-top-micro\">\n",
    "           <div class=\"a-row a-size-small\">\n",
    "                <span aria-label=\"4.1 out of 5 stars\">\n",
    "                    <span class=\"a-declarative\" data-action=\"a-popover\" data-csa-c-type=\"widget\" data-csa-c-func-deps=\"aui-da-a-popover\" data-a-popover=\"{&quot;closeButton&quot;:false,&quot;closeButtonLabel&quot;:&quot;&quot;,&quot;position&quot;:&quot;triggerBottom&quot;,&quot;popoverLabel&quot;:&quot;&quot;,&quot;url&quot;:&quot;/review/widgets/average-customer-review/popover/ref=acr_search__popover?ie=UTF8&amp;asin=B08CMQD4BC&amp;ref=acr_search__popover&amp;contextId=search&quot;}\" data-csa-c-id=\"fr8yro-qgqgb2-7jc87u-htbzsc\">\n",
    "                    <a href=\"javascript:void(0)\" role=\"button\" class=\"a-popover-trigger a-declarative\">\n",
    "                         <i class=\"a-icon a-icon-star-small a-star-small-4 aok-align-bottom\">\n",
    "                               <span class=\"a-icon-alt\">4.1 out of 5 stars</span>\n",
    "                        </i>\n",
    "                        <i class=\"a-icon a-icon-popover\">\n",
    "                        </i>\n",
    "                    </a>\n",
    "                  </span> \n",
    "                </span>\n",
    "                <span aria-label=\"6,808\"><a class=\"a-link-normal s-underline-text s-underline-link-text s-link-style\" target=\"_blank\" href=\"/Inovera-Label-Women-Handbags-Shoulder/dp/B08CMQD4BC/ref=sr_1_19?crid=2M096C61O4MLT&amp;keywords=bags&amp;qid=1675430445&amp;sprefix=ba%2Caps%2C283&amp;sr=8-19#customerReviews\">\n",
    "                    <span class=\"a-size-base s-underline-text\">6,808</span> \n",
    "                </a> \n",
    "                </span>\n",
    "                </div>\n",
    "                </div>\n",
    "                <div class=\"sg-row\"><div class=\"sg-col sg-col-4-of-12 sg-col-4-of-16 sg-col-4-of-20\">\n",
    "                <div class=\"sg-col-inner\">\n",
    "                <div class=\"a-section a-spacing-none a-spacing-top-micro s-price-instructions-style\">\n",
    "                <div class=\"a-row a-size-base a-color-base\">\n",
    "                <a class=\"a-size-base a-link-normal s-underline-text s-underline-link-text s-link-style a-text-normal\" target=\"_blank\" href=\"/Inovera-Label-Women-Handbags-Shoulder/dp/B08CMQD4BC/ref=sr_1_19?crid=2M096C61O4MLT&amp;keywords=bags&amp;qid=1675430445&amp;sprefix=ba%2Caps%2C283&amp;sr=8-19\">\n",
    "                <span class=\"a-price\" data-a-size=\"xl\" data-a-color=\"base\">\n",
    "                    <span class=\"a-offscreen\">₹1,399</span>\n",
    "                    <span aria-hidden=\"true\">\n",
    "                    <span class=\"a-price-symbol\">₹</span>\n",
    "                    <span class=\"a-price-whole\">1,399</span>\n",
    "                    </span>\n",
    "                </span> \n",
    "                <span class=\"a-price a-text-price\" data-a-size=\"b\" data-a-strike=\"true\" data-a-color=\"secondary\">\n",
    "                        <span class=\"a-offscreen\">₹1,999</span><span aria-hidden=\"true\">₹1,999</span>\n",
    "                </span> \n",
    "                </a> \n",
    "                <span class=\"a-letter-space\"></span>\n",
    "                <span>(30% off)</span>\n",
    "                <span class=\"a-letter-space\"></span>\n",
    "                </div>\n",
    "                </div>\n",
    "                <div class=\"a-section a-spacing-none a-spacing-top-micro\">\n",
    "                      <div class=\"a-row a-size-base a-color-secondary s-align-children-center\">\n",
    "                           <div class=\"a-row s-align-children-center\">\n",
    "                            <span class=\"aok-inline-block s-image-logo-view\">\n",
    "                                <span class=\"aok-relative s-icon-text-medium s-prime\">\n",
    "                                     <i class=\"a-icon a-icon-prime a-icon-medium\" role=\"img\" aria-label=\"Amazon Prime\"></i>\n",
    "                                </span>\n",
    "                                <span></span>\n",
    "                            </span> \n",
    "                          </div>\n",
    "                          <div class=\"a-row\"><span aria-label=\"FREE Delivery by Amazon\">\n",
    "                             <span class=\"a-color-base\">FREE Delivery by Amazon</span>\n",
    "                          </span>\n",
    "                    </div>\n",
    "                    </div>\n",
    "                    </div>\n",
    "                    </div>\n",
    "                    </div>\n",
    "                    <div class=\"sg-col sg-col-4-of-12 sg-col-4-of-16 sg-col-8-of-20\">\n",
    "                    <div class=\"sg-col-inner\"></div>\n",
    "                    </div>\n",
    "                    </div>\n",
    "                    </div>\n",
    "\"\"\""
   ]
  },
  {
   "cell_type": "code",
   "execution_count": 2,
   "id": "9cbf75c3",
   "metadata": {},
   "outputs": [],
   "source": [
    "from bs4 import BeautifulSoup\n",
    "import urllib.request as ur"
   ]
  },
  {
   "cell_type": "code",
   "execution_count": 3,
   "id": "2b66e725",
   "metadata": {},
   "outputs": [],
   "source": [
    "url = \"https://www.amazon.in/s?k=bags&page=2&crid=2M096C61O4MLT&qid=1675319528&sprefix=ba%2Caps%2C283&ref=sr_pg_1\" #+str(i)\n",
    "req = ur.Request(url, None, headers={'User-Agent': 'Mozilla/5.0 (Macintosh; Intel Mac OS X 10_9_3) AppleWebKit/537.36 (KHTML, like Gecko) Chrome/35.0.1916.47 Safari/537.36' })\n",
    "rs = ur.urlopen(req)"
   ]
  },
  {
   "cell_type": "code",
   "execution_count": 4,
   "id": "89e959e8",
   "metadata": {},
   "outputs": [],
   "source": [
    "soup = BeautifulSoup(rs, \"lxml\")\n",
    "product_items = soup.find_all(\"div\", class_=\"a-section a-spacing-small a-spacing-top-small\")"
   ]
  },
  {
   "cell_type": "code",
   "execution_count": 5,
   "id": "81869974",
   "metadata": {},
   "outputs": [
    {
     "data": {
      "text/plain": [
       "'\\n\\n\\n\\n\\n\\n\\n\\n\\n\\n\\n\\n\\n\\n\\n\\n\\n\\n\\n\\n\\n\\n\\n\\n\\n\\n\\n\\n\\n\\n\\n\\n\\n\\n\\nAmazon.in : bags\\n\\n\\n\\n\\n\\n\\n\\n\\n\\n\\n\\n\\n\\n\\n\\n\\n\\n\\n\\n\\n\\n\\n\\n\\n\\n\\n\\n\\n\\n\\n\\n\\n\\n\\n\\n\\n\\n\\nSkip to main content\\n\\n\\n\\n\\n\\n\\n\\n\\n\\n\\n\\n\\n\\n\\n\\n\\n.in\\n\\n\\n\\n\\n\\n\\n\\n\\n\\n                   Hello\\n                \\n\\n                   Select your address\\n                \\n\\n\\n\\n\\n\\n\\n\\n\\n\\n\\n\\n\\n\\n\\n\\n\\n\\n\\n\\nAll\\n\\n\\nSelect the department you want to search in\\n\\nAll Categories\\nAlexa Skills\\nAmazon Devices\\nAmazon Fashion\\nAmazon Fresh\\nAmazon Pharmacy\\nAppliances\\nApps & Games\\nBaby\\nBeauty\\nBooks\\nCar & Motorbike\\nClothing & Accessories\\nCollectibles\\nComputers & Accessories\\nElectronics\\nFurniture\\nGarden & Outdoors\\nGift Cards\\nGrocery & Gourmet Foods\\nHealth & Personal Care\\nHome & Kitchen\\nIndustrial & Scientific\\nJewellery\\nKindle Store\\nLuggage & Bags\\nLuxury Beauty\\nMovies & TV Shows\\nMusic\\nMusical Instruments\\nOffice Products\\nPet Supplies\\nPrime Video\\nShoes & Handbags\\nSoftware\\nSports, Fitness & Outdoors\\nSubscribe & Save\\nTools & Home Improvement\\nToys & Games\\nUnder ₹500\\nVideo Games\\nWatches\\n\\n\\n\\n\\n\\n\\nSearch Amazon.in\\n\\n\\n\\n\\n\\n\\n\\n\\n\\n\\n\\n\\n\\n\\n\\n\\n\\n\\n\\n\\n\\n\\n\\n\\nEN\\n\\n\\n\\n\\n\\nHello, sign in\\nAccount & Lists\\n\\n\\n\\nReturns\\n& Orders\\n\\n\\n\\n0\\n\\n\\n\\n\\n\\n\\n        Cart\\n        \\n\\n\\n\\n\\n\\n\\n\\n\\n\\n\\n\\n\\nAll\\n\\n\\n\\n\\n\\n\\n\\n\\n\\n\\nAmazon miniTV\\nSell\\nBest Sellers\\nMobiles\\nToday\\'s Deals\\nCustomer Service\\nNew Releases\\n Electronics \\nPrime\\nHome & Kitchen\\nFashion\\nAmazon Pay\\nComputers\\nGift Ideas\\t\\nBeauty & Personal Care\\nCoupons\\nBooks\\nToys & Games\\nSports, Fitness & Outdoors\\nGrocery & Gourmet Foods\\nCar & Motorbike\\nHome Improvement\\nGift Cards\\nHealth, Household & Personal Care\\nBaby\\nVideo Games\\nPet Supplies\\nAudible\\nSubscribe & Save\\nAmazonBasics\\nKindle eBooks\\n\\n\\n\\n\\n\\n\\n\\n\\n\\n\\n\\n\\n\\n\\n\\n\\n\\n\\n\\n\\n\\n\\n\\n\\n\\n\\n\\n\\n\\n\\n\\n\\n\\n\\n\\n\\n\\n\\n\\n\\n\\n\\n\\n17-32 of over 100,000 results for \"bags\"\\n\\n\\n\\n\\n\\n\\n\\n\\n\\n\\n\\nSort by:\\nFeatured\\nPrice: Low to High\\nPrice: High to Low\\nAvg. Customer Review\\nNewest Arrivals\\nSort by:Featured\\nGo\\n\\n\\n\\n\\n\\n\\n\\n\\n\\n\\n\\n\\n\\n\\n\\n\\nLive life ezee waySave up to 34% on EzeeLimited time Deal₹169.00₹169.00₹195.00₹195.00\\xa0(13% off)Limited time Deal₹399.00₹399.00₹603.00₹603.00\\xa0(34% off)Limited time Deal₹159.00₹159.00₹162.00₹162.00\\xa0(2% off)Sponsored\\n\\n\\n\\n\\n\\n\\n\\n\\n\\nResultsPrice and other details may vary based on product size and colour.\\n\\n\\n\\n\\n\\n\\n\\n\\n\\n\\n More Like ThisSponsoredSponsored You are seeing this ad based on the product’s relevance to your search query.Let us know  Impulse Imptag 45L Laptop Backpack/Office Bag/School Bag/College Bag/Business Bag/Travel Backpack Water Resistant Fits Up to 16 Inch Laptop with Rain Cover & 1 Year Warranty  5.0 out of 5 stars 1  Deal of the Day  ₹796₹796 M.R.P: ₹2,999₹2,999  (73% off) FREE Delivery by Amazon\\n\\n\\n\\n\\n\\n\\n More Like ThisSponsoredSponsored You are seeing this ad based on the product’s relevance to your search query.Let us know  Arctic Hunter Laptop Bag Expandable Backpack for 16 inch Lapotp 40L Travel Backpack Water-resistant Business School Backpack with USB Port for Men and Women  4.4 out of 5 stars 65  Deal of the Day  ₹3,514₹3,514 M.R.P: ₹6,999₹6,999  (50% off) FREE Delivery by Amazon\\n\\n\\n\\n More Like ThisGear Classic 20L Faux Leather Water Resistant Anti Theft Laptop Bag/Backpack for Men/Women-Brown  4.4 out of 5 stars 5,757  ₹988₹988 M.R.P: ₹1,999₹1,999  (51% off) FREE Delivery by Amazon\\nWesley Milestone 2.0 Casual Waterproof Laptop Backpack/Office Bag/School Bag/College Bag/Business Bag/Travel Backpack (Dimensions:13x18 inches) (Compatible with 39.62cm(15.6inch laptop) 30 L, Charcoal black  4.3 out of 5 stars 11,182  ₹550₹550 M.R.P: ₹1,199₹1,199  (54% off) Get it by Friday, 16 JuneFREE Delivery by Amazon\\nBest sellerin Laptop Backpacks  Lenovo 15.6\" (39.62cm) Slim Everyday Backpack, Made in India, Compact, Water-resistant, Organized storage:Laptop sleeve,tablet pocket,front workstation,2-side pockets,Padded adjustable shoulder straps  4.4 out of 5 stars 3,222  ₹649₹649 M.R.P: ₹1,444₹1,444  (55% off) Get it by Saturday, 17 JuneFREE Delivery by Amazon\\n\\n\\n\\n\\nMore results\\n\\n\\n\\n\\n More Like ThisPOLESTAR Vintage 15.6 inch 32 LTR Casual Laptop Backpack/Office Bag/School Bag/College Bag/Business Bag/Unisex Backpack, Water Resistant and Light Weight, 1 year Warranty  3.9 out of 5 stars 8,891  1K+ viewed in past weekDeal of the Day  ₹549₹549 M.R.P: ₹2,199₹2,199  (75% off) FREE Delivery by Amazon\\n More Like ThisZipline Unisex casual polyester 36 L Backpack School Bag Women Men Boys Girls children Daypack College Bag Book School Sports Bag Weekend Bag  4.0 out of 5 stars 5,694  3K+ viewed in past weekDeal of the Day  ₹843₹843 M.R.P: ₹1,899₹1,899  (56% off) FREE Delivery by Amazon\\nADISA Light Weight Laptop Backpack 32 Ltrs  4.0 out of 5 stars 5,916  200+ bought in past week₹499₹499  FREE Delivery \\n More Like ThisSafari Quill Laptop Backpack 26 Ltrs Water Resistant Fabric - Blue, L (QUILL19CBBLU)  4.0 out of 5 stars 626  Deal of the Day  ₹899₹899 M.R.P: ₹2,899₹2,899  (69% off) FREE Delivery by Amazon\\nAmerican Tourister VALEX BLACK LAPTOP BACKPACK 28 Ltrs,Volume, LAPTOP COMPARTMENT, BOTTLE POCKET, FRONT ORGANIZER  4.3 out of 5 stars 270  4K+ viewed in past weekDeal of the Day  ₹1,199₹1,199 M.R.P: ₹2,500₹2,500  (52% off) FREE Delivery by Amazon\\n\\n\\n\\n More Like ThisSponsoredSponsored You are seeing this ad based on the product’s relevance to your search query.Let us know  Tabelito® NEO 3O L Water Resistant Laptop/College/Office/School/Travel/Business Bag, Unisex Backpack for Men Women Fits Up to 15.6 Inch Laptop Notebook.  4.7 out of 5 stars 40  Limited time deal  ₹398₹398 M.R.P: ₹1,249₹1,249  (68% off)FREE Delivery by Amazon\\n\\n\\n\\n\\n\\n\\n More Like ThisSponsoredSponsored You are seeing this ad based on the product’s relevance to your search query.Let us know  uppercase Medium 17 Ltrs Vegan Leather (upto 14 inch) Laptop Backpack 2300EBP1 3x more water resistant sustainable bags with rain proof zippers for Men, Women, Boys and Girls, 750 Days warranty  4.0 out of 5 stars 455  600+ viewed in past week₹1,600₹1,600 M.R.P: ₹2,100₹2,100  (24% off) FREE Delivery by Amazon\\n\\n\\n\\n More Like ThisFUR JADEN Anti Theft Backpack 15.6 Inch Laptop Bag with USB Charging Port For Men Women Boys Girls  4.0 out of 5 stars 11,140  100+ bought in past week₹847₹847 M.R.P: ₹3,500₹3,500  (76% off) FREE Delivery by Amazon\\n\\n\\n\\n\\nMore results\\n\\n\\n\\n\\nADISA Laptop Backpack 31 Ltrs  4.0 out of 5 stars 9,334  100+ bought in past week₹499₹499  FREE Delivery \\n More Like ThisSafari Sneak Casual Backpack with USB Charging Port 26 Ltrs Water Resistant Fabric - Grey, L (SNEAK19CBGRE)  3.7 out of 5 stars 956  1K+ viewed in past weekDeal of the Day  ₹949₹949 M.R.P: ₹2,899₹2,899  (67% off) FREE Delivery by Amazon\\n More Like ThisF Gear Luxur Brown 25 liter Laptop Backpack (2404)  4.4 out of 5 stars 16,803  100+ bought in past week₹1,032₹1,032 M.R.P: ₹2,580₹2,580  (60% off) Get it by Friday, 16 JuneFREE Delivery by Amazon\\n More Like ThisNorthzone Lightweight school bags Backpacks for Boys Girls Stylish men and women Casual Travel Laptop Bag College office (Black) 40L  4.0 out of 5 stars 83  600+ viewed in past weekDeal of the Day  ₹426₹426 M.R.P: ₹1,599₹1,599  (73% off)FREE Delivery by Amazon\\nWesley Unisex Milestone Casual Waterproof Laptop Office School College Business Travel Backpack 25 L (Dimensions: 12.5x18 inches) (Compatible with 15.6 inch laptops), Navy Blue  4.3 out of 5 stars 12,853  ₹473₹473 M.R.P: ₹1,199₹1,199  (61% off)Get it by Saturday, 17 JuneFREE Delivery by Amazon\\n More Like ThisSafari Tribe 35 Ltrs Large Laptop Backpack with 3 Compartments, Water Resistant Fabric - Black (TRIBE19CBBLK)  3.8 out of 5 stars 1,545  1K+ viewed in past week₹1,099₹1,099 M.R.P: ₹3,399₹3,399  (68% off) FREE Delivery by Amazon\\nWesley Milestone 15.6 inch 25 L Casual Waterproof Laptop Backpack/Office Bag/School Bag/College Bag/Business Bag/Unisex Travel Backpack  4.3 out of 5 stars 12,853  ₹498₹498 M.R.P: ₹1,199₹1,199  (58% off)Get it by Saturday, 17 JuneFREE Delivery by Amazon\\n\\n\\n\\n More Like ThisSponsoredSponsored You are seeing this ad based on the product’s relevance to your search query.Let us know  Elegant 16 inch 28 L Casual Waterproof Laptop Backpack/Office Bag/School Bag/College Bag/Business Bag/Unisex Travel Backpack  5.0 out of 5 stars 3  Deal of the Day  ₹799₹799 M.R.P: ₹1,376₹1,376  (42% off) FREE Delivery by AmazonOnly 2 left in stock.\\n\\n\\n\\n\\n\\n\\n More Like ThisSponsoredSponsored You are seeing this ad based on the product’s relevance to your search query.Let us know  COSMUS Vogue Casual Laptop Backpack with USB Charger Port 46cm 26 Litre Maroon College Bag  4.2 out of 5 stars 1,399  50+ viewed in past weekDeal of the Day  ₹1,261₹1,261 M.R.P: ₹2,669₹2,669  (53% off) FREE Delivery by Amazon\\n\\n\\n\\n\\n\\n\\n\\nRelated searches\\n\\n\\n\\n\\n\\n\\n\\n\\n\\n\\n\\n\\n\\n                                                    bags for girls\\n                                                \\n\\n\\n\\n\\n\\n\\n\\n\\n\\n\\n\\n\\n                                                        skybags\\n                                                    \\n\\n\\n\\n\\n\\n\\n\\n\\n\\n\\n\\n\\n\\n\\n\\n\\n                                                    bags for travelling\\n                                                \\n\\n\\n\\n\\n\\n\\n\\n\\n\\n\\n\\n\\n                                                        wildcraft bags\\n                                                    \\n\\n\\n\\n\\n\\n\\n\\n\\n\\n\\n\\n\\n\\n\\n\\n\\n                                                    school bags\\n                                                \\n\\n\\n\\n\\n\\n\\n\\n\\n\\n\\n\\n\\n                                                        american tourister bags\\n                                                    \\n\\n\\n\\n\\n\\n\\n\\n\\n\\n\\n\\nPrevious123...20Next\\n\\n\\n\\n\\nBrands related to your searchSponsoredTrendy School Bags and Backpacks for WomenShop GenieUnpack Your DreamsShop AristocratTravel in Style with Safari BackpacksShop SAFARI\\n\\n\\n\\n\\n\\n\\n\\n\\n\\nNeed help?\\nVisit the help section  or contact us \\n\\n\\n\\n\\n\\n\\n\\n\\n\\n\\n            Advertisement\\n    \\n\\n\\n\\n\\n\\n\\n\\n\\n\\n\\n\\n                  Go back to filtering menu\\n              \\n\\n\\n\\n\\n\\n\\n                  Skip to main search results\\n              \\n\\n\\n\\n\\n\\n\\n\\n\\n\\nDelivery Day\\n\\n\\n\\n\\n\\n\\nGet It in 2 Days\\n\\n\\n\\n\\n\\n\\n\\nCategory\\n\\n\\n\\n\\n\\nLaptop Backpacks\\n\\n\\n\\n\\n\\n\\nCasual Daypacks\\n\\n\\n\\n\\n\\n\\nRucksacks & Trekking Backpacks\\n\\n\\n\\n\\n\\n\\nLaptop Messenger & Shoulder Bags\\n\\n\\n\\n\\n\\n\\nMessenger & Sling Bags\\n\\n\\n\\n\\n\\n\\nWomen\\'s Handbags\\n\\n\\n\\n\\n\\n\\nTravel Duffels\\n\\n\\n\\n\\n\\n\\nGym Bags\\n\\n\\n\\n\\n\\n\\n\\nCustomer Review\\n\\n\\n\\n\\n\\n\\n4 Stars & Up\\n& Up\\n\\n\\n\\n\\n\\n\\n\\n\\n3 Stars & Up\\n& Up\\n\\n\\n\\n\\n\\n\\n\\n\\n2 Stars & Up\\n& Up\\n\\n\\n\\n\\n\\n\\n\\n\\n1 Star & Up\\n& Up\\n\\n\\n\\n\\n\\n\\n\\n\\nBrand\\n\\n\\n\\n\\n\\n\\nAmerican Tourister\\n\\n\\n\\n\\n\\n\\n\\nADISA\\n\\n\\n\\n\\n\\n\\n\\nWesley\\n\\n\\n\\n\\n\\n\\n\\nFUR JADEN\\n\\n\\n\\n\\n\\n\\n\\nSafari\\n\\n\\n\\n\\n\\n\\n\\nSkybags\\n\\n\\n\\n\\n\\n\\n\\nGear\\n\\n\\n\\n\\n\\n\\n\\n\\n\\n\\n\\nHalf Moon\\n\\n\\n\\n\\n\\n\\n\\nLenovo\\n\\n\\n\\n\\n\\n\\n\\nWildcraft\\n\\n\\n\\n\\n\\n\\n\\nCOSMUS\\n\\n\\n\\n\\n\\n\\n\\nWildHorn\\n\\n\\n\\n\\n\\n\\n\\nZipline\\n\\n\\n\\n\\n\\n\\n\\nTRUE HUMAN\\n\\n\\n\\n\\n\\n\\n\\nF Gear\\n\\n\\n\\n\\n\\n\\n\\nuppercase\\n\\n\\n\\n\\n\\n\\n\\nRed Lemon\\n\\n\\n\\n\\n\\n\\n\\nPOLESTAR\\n\\n\\n\\n\\n\\n\\n\\nNORTH ZONE\\n\\n\\n\\n\\n\\n\\n\\nKILLER\\n\\n\\n\\n\\n\\n\\n\\nSwiss Military\\n\\n\\n\\n\\n\\n\\n\\nGeneric\\n\\n\\n\\n\\n\\n\\n\\nLavie Sport\\n\\n\\n\\n\\n\\n\\n\\nPOLICE\\n\\n\\n\\n\\n\\n\\n\\nNivia\\n\\n\\n\\n\\n\\n\\n\\nFATMUG\\n\\n\\n\\n\\n\\n\\n\\nHEROZ\\n\\n\\n\\n\\n\\n\\n\\nArctic Fox\\n\\n\\n\\n\\n\\n\\n\\nMOKOBARA\\n\\n\\n\\n\\n\\n\\n\\nGenie\\n\\n\\n\\n\\n\\n\\n\\nah arctic hunter\\n\\n\\n\\n\\n\\n\\n\\nVISMIINTREND\\n\\n\\n\\n\\n\\n\\n\\nHouse of Quirk\\n\\n\\n\\n\\n\\n\\n\\nImpulse\\n\\n\\n\\n\\n\\n\\n\\nAirCase\\n\\n\\n\\n\\n\\n\\n\\nHARISSONS\\n\\n\\n\\n\\n\\n\\n\\nTabelito\\n\\n\\n\\n\\n\\n\\n\\nLino Perros\\n\\n\\n\\n\\n\\n\\n\\nLavie\\n\\n\\n\\n\\n\\n\\n\\nHAMMONDS FLYCATCHER\\n\\n\\n\\n\\n\\nSee more\\n\\n\\n\\n\\n\\n\\nPrice\\n\\n\\n\\n\\n\\nUnder ₹1,000\\n\\n\\n\\n\\n\\n\\n₹1,000 - ₹5,000\\n\\n\\n\\n\\n\\n\\n₹5,000 - ₹10,000\\n\\n\\n\\n\\n\\n\\n₹10,000 - ₹20,000\\n\\n\\n\\n\\n\\n\\nOver ₹20,000\\n\\n\\n\\n\\n\\n\\n\\n\\n\\n\\n\\n\\n\\n₹\\n\\n₹\\n\\n\\n            Go\\n         \\n\\n\\n\\n\\n\\nDeals & Discounts\\n\\n\\n\\n\\n\\nToday\\'s Deals\\n\\n\\n\\n\\n\\n\\n\\nComputers & Accessories Brands\\n\\n\\n\\n\\n\\n\\nMade for Amazon\\n\\n\\n\\n\\n\\n\\n\\nTop Brands\\n\\n\\n\\n\\n\\nBackpack Closure Type\\n\\n\\n\\n\\n\\n\\nZipper\\n\\n\\n\\n\\n\\n\\n\\nBuckle\\n\\n\\n\\n\\n\\n\\n\\nButton\\n\\n\\n\\n\\n\\n\\n\\nDrawstring\\n\\n\\n\\n\\n\\n\\n\\nFlap\\n\\n\\n\\n\\n\\n\\n\\nHook & Loop\\n\\n\\n\\n\\n\\n\\n\\nMagnetic\\n\\n\\n\\n\\n\\n\\n\\n\\n\\n\\n\\nSnap\\n\\n\\n\\n\\n\\nSee more\\n\\n\\n\\n\\nPattern\\n\\n\\n\\n\\n\\n\\nAnimal Print\\n\\n\\n\\n\\n\\n\\n\\nCamouflage\\n\\n\\n\\n\\n\\n\\n\\nCartoon\\n\\n\\n\\n\\n\\n\\n\\nCheckered\\n\\n\\n\\n\\n\\n\\n\\nFloral\\n\\n\\n\\n\\n\\n\\n\\nFruits\\n\\n\\n\\n\\n\\n\\n\\nGeometric\\n\\n\\n\\n\\n\\n\\n\\n\\n\\n\\n\\nHearts\\n\\n\\n\\n\\n\\n\\n\\nLeaves\\n\\n\\n\\n\\n\\n\\n\\nPaisley\\n\\n\\n\\n\\n\\n\\n\\nPlaid\\n\\n\\n\\n\\n\\n\\n\\nPolka Dots\\n\\n\\n\\n\\n\\n\\n\\nSolid\\n\\n\\n\\n\\n\\n\\n\\nStriped\\n\\n\\n\\n\\n\\n\\n\\nTie-Dye\\n\\n\\n\\n\\n\\nSee more\\n\\n\\n\\n\\nPay On Delivery\\n\\n\\n\\n\\n\\n\\nEligible for Pay On Delivery\\n\\n\\n\\n\\n\\nSport Type\\n\\n\\n\\n\\n\\n\\nAirsoft\\n\\n\\n\\n\\n\\n\\n\\nAlpine Skiing\\n\\n\\n\\n\\n\\n\\n\\nArchery\\n\\n\\n\\n\\n\\n\\n\\nAuto Racing\\n\\n\\n\\n\\n\\n\\n\\nBackcountry Skiing\\n\\n\\n\\n\\n\\n\\n\\nBadminton\\n\\n\\n\\n\\n\\n\\n\\nBaseball\\n\\n\\n\\n\\n\\n\\n\\n\\n\\n\\n\\nBasketball\\n\\n\\n\\n\\n\\n\\n\\nBMX\\n\\n\\n\\n\\n\\n\\n\\nBoating\\n\\n\\n\\n\\n\\n\\n\\nBowling\\n\\n\\n\\n\\n\\n\\n\\nBoxing\\n\\n\\n\\n\\n\\n\\n\\nClimbing\\n\\n\\n\\n\\n\\n\\n\\nCricket\\n\\n\\n\\n\\n\\n\\n\\nCycling\\n\\n\\n\\n\\n\\n\\n\\nDiving\\n\\n\\n\\n\\n\\n\\n\\nFishing\\n\\n\\n\\n\\n\\n\\n\\nFootball\\n\\n\\n\\n\\n\\n\\n\\nGymnastics\\n\\n\\n\\n\\n\\n\\n\\nHiking\\n\\n\\n\\n\\n\\n\\n\\nHunting\\n\\n\\n\\n\\n\\n\\n\\nIce Skating\\n\\n\\n\\n\\n\\n\\n\\nMountain Biking\\n\\n\\n\\n\\n\\n\\n\\nMountaineering\\n\\n\\n\\n\\n\\n\\n\\nMulti-Sport\\n\\n\\n\\n\\n\\n\\n\\nPaintball\\n\\n\\n\\n\\n\\n\\n\\nRock Climbing\\n\\n\\n\\n\\n\\n\\n\\nRoller Skating\\n\\n\\n\\n\\n\\n\\n\\nRunning\\n\\n\\n\\n\\n\\n\\n\\nSkateboarding\\n\\n\\n\\n\\n\\n\\n\\nSnowboarding\\n\\n\\n\\n\\n\\n\\n\\nSoccer\\n\\n\\n\\n\\n\\n\\n\\nSquash\\n\\n\\n\\n\\n\\n\\n\\nSurfing\\n\\n\\n\\n\\n\\n\\n\\nSwimming\\n\\n\\n\\n\\n\\n\\n\\nTable Tennis\\n\\n\\n\\n\\n\\n\\n\\nTennis\\n\\n\\n\\n\\n\\n\\n\\nTrekking\\n\\n\\n\\n\\n\\n\\n\\nVolleyball\\n\\n\\n\\n\\n\\n\\n\\nYoga\\n\\n\\n\\n\\n\\nSee more\\n\\n\\n\\n\\nBackpack Design\\n\\n\\n\\n\\n\\n\\nDaypack Backpack\\n\\n\\n\\n\\n\\n\\n\\nFramed Backpack\\n\\n\\n\\n\\n\\n\\n\\nLaptop Backpack\\n\\n\\n\\n\\n\\nPocket Description\\n\\n\\n\\n\\n\\n\\nSlash Pocket\\n\\n\\n\\n\\n\\n\\n\\nSlip Pocket\\n\\n\\n\\n\\n\\n\\n\\nSlit Pocket\\n\\n\\n\\n\\n\\n\\n\\nStash Pocket\\n\\n\\n\\n\\n\\n\\n\\nUtility Pocket\\n\\n\\n\\n\\n\\nCare Instructions\\n\\n\\n\\n\\n\\n\\nDry Clean Only\\n\\n\\n\\n\\n\\n\\n\\nHand Wash Only\\n\\n\\n\\n\\n\\n\\n\\nMachine Wash\\n\\n\\n\\n\\n\\n\\n\\nWipe with Damp Cloth\\n\\n\\n\\n\\n\\n\\n\\nWipe with Dry Cloth\\n\\n\\n\\n\\n\\nShell Type\\n\\n\\n\\n\\n\\n\\nHard Shell\\n\\n\\n\\n\\n\\n\\n\\nSoft Shell\\n\\n\\n\\n\\n\\nEmbellishment Feature\\n\\n\\n\\n\\n\\n\\nCord\\n\\n\\n\\n\\n\\n\\n\\nGlitter\\n\\n\\n\\n\\n\\n\\n\\nPlush Accent\\n\\n\\n\\n\\n\\nRecommended Uses For Product\\n\\n\\n\\n\\n\\n\\nLeisure\\n\\n\\n\\n\\n\\n\\n\\nSchool\\n\\n\\n\\n\\n\\n\\n\\nSport\\n\\n\\n\\n\\n\\n\\n\\nTravel\\n\\n\\n\\n\\n\\n\\n\\nWork\\n\\n\\n\\n\\n\\nNew Arrivals\\n\\n\\n\\n\\n\\nLast 30 days\\n\\n\\n\\n\\n\\n\\nLast 90 days\\n\\n\\n\\n\\n\\nDiscount\\n\\n\\n\\n\\n\\n10% Off or more\\n\\n\\n\\n\\n\\n\\n25% Off or more\\n\\n\\n\\n\\n\\n\\n35% Off or more\\n\\n\\n\\n\\n\\n\\n50% Off or more\\n\\n\\n\\n\\n\\n\\n60% Off or more\\n\\n\\n\\n\\n\\n\\n70% Off or more\\n\\n\\n\\n\\n\\nAvailability\\n\\n\\n\\n\\n\\n\\nInclude Out of Stock\\n\\n\\n\\n\\n\\n\\n\\n\\n\\n\\n\\n\\n\\n\\n            Advertisement\\n    \\n\\n\\n\\n\\n\\n\\n\\n\\n\\n\\n            Sponsored\\n    \\n\\n\\n\\n\\n\\n\\n\\n\\n\\n\\n\\n\\n\\n\\n\\n\\n\\n\\n\\n\\n\\n\\n\\n\\n\\n\\n\\n\\n\\n\\n\\n\\n\\n\\n\\n\\n\\n\\n\\n\\n\\n\\n\\n\\n\\n\\n                    Your recently viewed items and featured recommendations      ›    View or edit your browsing history     After viewing product detail pages, look here to find an easy way to navigate back to pages you are interested in.         Your recently viewed items and featured recommendations      ›    View or edit your browsing history     After viewing product detail pages, look here to find an easy way to navigate back to pages you are interested in.        \\n\\n\\n\\n\\n    Back to top\\n  \\n\\n\\n\\n\\n\\nGet to Know Us\\n\\n\\nAbout Us\\n\\n\\nCareers\\n\\n\\nPress Releases\\n\\n\\nAmazon Science\\n\\n\\n\\n\\n\\nConnect with Us\\n\\n\\nFacebook\\n\\n\\nTwitter\\n\\n\\nInstagram\\n\\n\\n\\n\\n\\nMake Money with Us\\n\\n\\nSell on Amazon\\n\\n\\nSell under Amazon Accelerator\\n\\n\\nProtect and Build Your Brand\\n\\n\\nAmazon Global Selling\\n\\n\\nBecome an Affiliate\\n\\n\\nFulfilment by Amazon\\n\\n\\nAdvertise Your Products\\n\\n\\nAmazon Pay on Merchants\\n\\n\\n\\n\\n\\nLet Us Help You\\n\\n\\nCOVID-19 and Amazon\\n\\n\\nYour Account\\n\\n\\nReturns Centre\\n\\n\\n100% Purchase Protection\\n\\n\\nAmazon App Download\\n\\n\\nHelp\\n\\n\\n\\n\\n\\n\\n\\n\\n\\n\\n\\n\\n\\n\\n\\n\\n\\nEnglish\\n\\n\\n\\n\\nAustraliaBrazilCanadaChinaFranceGermanyItalyJapanMexicoNetherlandsPolandSingaporeSpainTurkeyUnited Arab EmiratesUnited KingdomUnited States\\n\\n\\n\\n\\nAbeBooksBooks, art& collectibles\\nAmazon Web ServicesScalable CloudComputing Services\\nAudibleDownloadAudio Books\\nDPReviewDigitalPhotography\\nIMDbMovies, TV& Celebrities\\n\\xa0\\n\\nShopbopDesignerFashion Brands\\n\\t\\nAmazon BusinessEverything ForYour Business\\nPrime Now 2-Hour Deliveryon Everyday Items\\nAmazon Prime Music100 million songs, ad-freeOver 15 million podcast episodes \\n\\xa0\\n\\n\\n\\n\\nConditions of Use & Sale Privacy Notice Interest-Based Ads © 1996-2023, Amazon.com, Inc. or its affiliates\\n\\n\\n\\n\\n\\n\\n\\n\\n\\n\\n\\n\\n\\n\\n\\n\\n\\n\\n\\n\\n'"
      ]
     },
     "execution_count": 5,
     "metadata": {},
     "output_type": "execute_result"
    }
   ],
   "source": [
    "soup.text"
   ]
  },
  {
   "cell_type": "code",
   "execution_count": 6,
   "id": "104443ec",
   "metadata": {},
   "outputs": [
    {
     "name": "stdout",
     "output_type": "stream",
     "text": [
      "ProductName : 22\n",
      "ProductURL : 22\n",
      "Rating : 26\n",
      "Number_of_reviews : 22\n",
      "ProductPrice : 25\n"
     ]
    }
   ],
   "source": [
    "ProductName=[]\n",
    "ProductURL=[]\n",
    "ProductPrice=[]\n",
    "Rating=[]\n",
    "Number_of_reviews=[]\n",
    "\n",
    "for pn in soup.find_all('span',{\"class\":\"a-size-medium a-color-base a-text-normal\"}):\n",
    "        ProductName.append(pn.text)\n",
    "\n",
    "for pu in soup.find_all('a',{\"class\":\"a-link-normal s-underline-text s-underline-link-text s-link-style a-text-normal\"}, href=True):\n",
    "    ProductURL.append(\"https://www.amazon.in\"+pu['href'])\n",
    "\n",
    "for rt in soup.find_all('span',{\"class\":\"a-icon-alt\"}):\n",
    "    Rating.append(rt.text)\n",
    "\n",
    "for pr in soup.find_all('span',{\"class\":\"a-price-whole\"}):\n",
    "    ProductPrice.append(pr.text)\n",
    "\n",
    "for rw in soup.find_all('span',{\"class\":\"a-size-base s-underline-text\"}):\n",
    "    Number_of_reviews.append(rw.text)\n",
    "\n",
    "print(\"ProductName :\",len(ProductName)) \n",
    "print(\"ProductURL :\", len(ProductURL))\n",
    "print(\"Rating :\", len(Rating))\n",
    "print(\"Number_of_reviews :\", len(Number_of_reviews))\n",
    "print(\"ProductPrice :\", len(ProductPrice))"
   ]
  },
  {
   "cell_type": "code",
   "execution_count": 7,
   "id": "df8da200",
   "metadata": {},
   "outputs": [
    {
     "name": "stdout",
     "output_type": "stream",
     "text": [
      "['5.0 out of 5 stars', '4.4 out of 5 stars', '4.4 out of 5 stars', '4.3 out of 5 stars', '4.4 out of 5 stars', '3.9 out of 5 stars', '4.0 out of 5 stars', '4.0 out of 5 stars', '4.0 out of 5 stars', '4.3 out of 5 stars', '4.7 out of 5 stars', '4.0 out of 5 stars', '4.0 out of 5 stars', '4.0 out of 5 stars', '3.7 out of 5 stars', '4.4 out of 5 stars', '4.0 out of 5 stars', '4.3 out of 5 stars', '3.8 out of 5 stars', '4.3 out of 5 stars', '5.0 out of 5 stars', '4.2 out of 5 stars', '4 Stars & Up', '3 Stars & Up', '2 Stars & Up', '1 Star & Up'] 26\n",
      "['169.', '399.', '159.', '796', '3,514', '988', '550', '649', '549', '843', '499', '899', '1,199', '398', '1,600', '847', '499', '949', '1,032', '426', '473', '1,099', '498', '799', '1,261'] 25\n"
     ]
    }
   ],
   "source": [
    "print(Rating, len(Rating))\n",
    "print(ProductPrice, len(ProductPrice))"
   ]
  },
  {
   "cell_type": "code",
   "execution_count": 8,
   "id": "8080f2f3",
   "metadata": {},
   "outputs": [],
   "source": [
    "soup = BeautifulSoup(rs, \"lxml\")\n",
    "product_items = soup.find_all(\"div\", class_=\"a-section a-spacing-small a-spacing-top-small\")\n",
    "for item in product_items:\n",
    "    name = item.find(\"span\",class_=\"a-size-medium a-color-base a-text-normal\").get_text()\n",
    "    if name in ProductName:\n",
    "        url = item.find('a',{\"class\":\"a-link-normal s-underline-text s-underline-link-text s-link-style a-text-normal\"}, href=True)\n",
    "        url = \"https://www.amazon.in\"+url.get(\"href\")\n",
    "        ratings = item.find(\"span\", class_=\"a-icon-alt\").get_text()\n",
    "        price = item.find(\"span\", class_=\"a-price-whole\").get_text()\n",
    "        Number_of_reviews = item.find(\"span\", class_=\"a-size-base s-underline-text\").get_text()\n",
    "\n",
    "        print(f\"Name: {name}\")\n",
    "        print(f\"URL: {url}\")\n",
    "        print(f\"Ratings: {ratings}\")\n",
    "        print(f\"Price: {price}\")\n",
    "        print(f\"Number_of_reviews: {Number_of_reviews}\")\n",
    "        print(\"\\n\")"
   ]
  },
  {
   "cell_type": "code",
   "execution_count": null,
   "id": "3bec66af",
   "metadata": {},
   "outputs": [],
   "source": []
  },
  {
   "cell_type": "code",
   "execution_count": 9,
   "id": "c4af06b8",
   "metadata": {},
   "outputs": [
    {
     "name": "stdout",
     "output_type": "stream",
     "text": [
      "Title: Product 1\n",
      "Description: This is product 1 description.\n",
      "Price: $100\n",
      "\n",
      "\n",
      "Title: Product 2\n",
      "Description: This is product 2 description.\n",
      "Price: $200\n",
      "\n",
      "\n"
     ]
    }
   ],
   "source": [
    "from bs4 import BeautifulSoup\n",
    "\n",
    "html = \"\"\"\n",
    "<div class=\"product\">\n",
    "  <h2 class=\"product-title\">Product 1</h2>\n",
    "  <p class=\"product-description\">This is product 1 description.</p>\n",
    "  <span class=\"product-price\">$100</span>\n",
    "</div>\n",
    "<div class=\"product\">\n",
    "  <h2 class=\"product-title\">Product 2</h2>\n",
    "  <p class=\"product-description\">This is product 2 description.</p>\n",
    "  <span class=\"product-price\">$200</span>\n",
    "</div>\n",
    "<div class=\"product\">\n",
    "  <h2 class=\"product-title\">Product 3</h2>\n",
    "  <p class=\"product-description\">This is product 3 description.</p>\n",
    "  <span class=\"product-price\">$300</span>\n",
    "</div>\n",
    "\"\"\"\n",
    "\n",
    "soup = BeautifulSoup(html, \"html.parser\")\n",
    "product_items = soup.find_all(\"div\", class_=\"product\")\n",
    "\n",
    "for item in product_items:\n",
    "    title = item.find(\"h2\", class_=\"product-title\").get_text()\n",
    "    if title in [\"Product 1\", \"Product 2\"]:\n",
    "        description = item.find(\"p\", class_=\"product-description\").get_text()\n",
    "        price = item.find(\"span\", class_=\"product-price\").get_text()\n",
    "\n",
    "        print(f\"Title: {title}\")\n",
    "        print(f\"Description: {description}\")\n",
    "        print(f\"Price: {price}\")\n",
    "        print(\"\\n\")"
   ]
  },
  {
   "cell_type": "code",
   "execution_count": null,
   "id": "8bdc6fdb",
   "metadata": {},
   "outputs": [],
   "source": []
  }
 ],
 "metadata": {
  "kernelspec": {
   "display_name": "Python 3",
   "language": "python",
   "name": "python3"
  },
  "language_info": {
   "codemirror_mode": {
    "name": "ipython",
    "version": 3
   },
   "file_extension": ".py",
   "mimetype": "text/x-python",
   "name": "python",
   "nbconvert_exporter": "python",
   "pygments_lexer": "ipython3",
   "version": "3.8.8"
  }
 },
 "nbformat": 4,
 "nbformat_minor": 5
}
